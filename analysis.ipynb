{
 "cells": [
  {
   "cell_type": "code",
   "execution_count": 23,
   "metadata": {
    "vscode": {
     "languageId": "r"
    }
   },
   "outputs": [],
   "source": [
    "suppressPackageStartupMessages({\n",
    "    library(Seurat)\n",
    "    library(celldex)\n",
    "    library(ShinyCell)\n",
    "    library(dplyr)\n",
    "    library(SingleR)\n",
    "    library(stringr)\n",
    "    library(tidyr)\n",
    "    library(tibble)\n",
    "})"
   ]
  },
  {
   "cell_type": "code",
   "execution_count": null,
   "metadata": {
    "vscode": {
     "languageId": "r"
    }
   },
   "outputs": [],
   "source": [
    "# RNA\n",
    "\n",
    "## Load data\n",
    "obj1 <- readRDS(\"data/PBMC.single.cell.RDS\")\n",
    "counts <- GetAssayData(obj1)\n",
    "metadata <- obj1@meta.data\n",
    "obj1 <- CreateSeuratObject(counts = counts, meta.data = metadata)\n",
    "\n",
    "## Clean columns\n",
    "obj1@meta.data$Tissue <- 'PBMC'\n",
    "obj1@meta.data$Donor <- obj1@meta.data$Sample\n",
    "obj1@meta.data$THERAPY <- obj1@meta.data$Therapy\n",
    "obj1$Type <- gsub(\"HC\", \"Healthy Control\", obj1$Type)\n",
    "obj1$Type <- gsub(\"CC_NI\", \"CC Non-Inflamed\", obj1$Type)\n",
    "obj1$Type <- gsub(\"CC_I\", \"CC Inflamed\", obj1$Type)\n",
    "obj1@meta.data$Stim <- obj1@meta.data$Type\n",
    "obj1@meta.data$Cell_Type <- obj1@meta.data$Cluster\n",
    "obj1@meta.data <- obj1@meta.data[, !(colnames(obj1@meta.data) %in%  c('cdr3s_nt' ,'Sample', 'Therapy', 'Pool', 'Cluster', 'Type'))]\n",
    "\n",
    "## Normalize\n",
    "options(future.globals.maxSize = 4000 * 1024^2)\n",
    "obj1 <- SCTransform(obj1, verbose = TRUE)\n",
    "\n",
    "## Load annotation\n",
    "monaco.ref <- celldex::MonacoImmuneData()\n",
    "blueprint.ref <- celldex::BlueprintEncodeData()\n",
    "### Blueprint annnotation\n",
    "sce <- LayerData(obj1)\n",
    "blueprint.main <- SingleR(test = sce, assay.type.test = 1, ref = blueprint.ref, labels = blueprint.ref$label.main)\n",
    "obj1@meta.data$blueprint.main <- blueprint.main$pruned.labels\n",
    "### Monaco annontation\n",
    "sce <- LayerData(obj1)\n",
    "monaco.fine <- SingleR(test = sce, assay.type.test = 1, ref = monaco.ref, labels = monaco.ref$label.fine)\n",
    "obj1@meta.data$monaco.fine <- monaco.fine$pruned.labels\n",
    "\n",
    "## Cluster\n",
    "seu <- obj1\n",
    "seu <- RunPCA(seu, npcs = 30, verbose = TRUE)\n",
    "seu <- RunUMAP(seu, reduction = \"pca\", dims = 1:20)\n",
    "seu <- FindNeighbors(seu, reduction = \"pca\", dims = 1:20)\n",
    "seu <- FindClusters(seu, resolution = 0.5)\n",
    "save(seu, file = file.path(\"objects\", \"PBMC.rda\"))\n",
    "\n",
    "scConf1 = createConfig(seu, maxLevels = 60)\n",
    "makeShinyFiles(seu, scConf1, gene.mapping = TRUE, shiny.prefix = \"sc1\", shiny.dir = \"colon_pbmc_uc_scRNAseq_GSE189040/\", gex.assay = \"SCT\")\n",
    "\n",
    "# ADT\n",
    "\n",
    "## Load data\n",
    "obj1 <- readRDS(\"data/PBMC.single.cell.RDS\")\n",
    "counts <- GetAssayData(obj1, assay = \"ADT\")\n",
    "metadata <- obj1@meta.data\n",
    "obj1 <- CreateSeuratObject(counts = counts, meta.data = metadata)\n",
    "\n",
    "## Clean columns\n",
    "obj1@meta.data$Tissue <- 'PBMC'\n",
    "obj1@meta.data$Donor <- obj1@meta.data$Sample\n",
    "obj1@meta.data$THERAPY <- obj1@meta.data$Therapy\n",
    "obj1$Type <- gsub(\"HC\", \"Healthy Control\", obj1$Type)\n",
    "obj1$Type <- gsub(\"CC_NI\", \"CC Non-Inflamed\", obj1$Type)\n",
    "obj1$Type <- gsub(\"CC_I\", \"CC Inflamed\", obj1$Type)\n",
    "obj1@meta.data$Stim <- obj1@meta.data$Type\n",
    "obj1@meta.data$Cell_Type <- obj1@meta.data$Cluster\n",
    "obj1@meta.data <- obj1@meta.data[, !(colnames(obj1@meta.data) %in%  c('cdr3s_nt' ,'Sample', 'Therapy', 'Pool', 'Cluster', 'Cluster', 'Type'))]\n",
    "\n",
    "## Normalize\n",
    "options(future.globals.maxSize = 4000 * 1024^2)\n",
    "obj1 <- SCTransform(obj1, verbose = TRUE)\n",
    "\n",
    "## Load annotation\n",
    "monaco.ref <- celldex::MonacoImmuneData()\n",
    "blueprint.ref <- celldex::BlueprintEncodeData()\n",
    "### Blueprint annnotation\n",
    "sce <- LayerData(obj1)\n",
    "blueprint.main <- SingleR(test = sce, assay.type.test = 1, ref = blueprint.ref, labels = blueprint.ref$label.main)\n",
    "obj1@meta.data$blueprint.main <- blueprint.main$pruned.labels\n",
    "### Monaco annontation\n",
    "sce <- LayerData(obj1)\n",
    "monaco.fine <- SingleR(test = sce, assay.type.test = 1, ref = monaco.ref, labels = monaco.ref$label.fine)\n",
    "obj1@meta.data$monaco.fine <- monaco.fine$pruned.labels\n",
    "\n",
    "## Cluster\n",
    "seu <- obj1\n",
    "# DefaultAssay(seu) <- 'ADT'\n",
    "# VariableFeatures(seu) <- rownames(seu[[\"ADT\"]])\n",
    "seu <- NormalizeData(seu, normalization.method = 'CLR', margin = 2)\n",
    "seu <- ScaleData(seu)\n",
    "seu <- RunPCA(seu, reduction.name = 'apca', verbose = TRUE)\n",
    "seu <- RunUMAP(seu, reduction = \"apca\", reduction.name= \"aumap\",  dims = 1:2)\n",
    "\n",
    "scConf2 = createConfig(seu, maxLevels = 60)\n",
    "makeShinyFiles(seu, scConf2, gene.mapping = TRUE, shiny.prefix = \"sc2\", shiny.dir = \"colon_pbmc_uc_scRNAseq_GSE189040/\", gex.assay = \"ADT\")"
   ]
  },
  {
   "cell_type": "code",
   "execution_count": null,
   "metadata": {
    "vscode": {
     "languageId": "r"
    }
   },
   "outputs": [],
   "source": [
    "# RNA\n",
    "\n",
    "## Load data\n",
    "obj2 <- readRDS(\"data/CD3.single.cell.RDS\")\n",
    "counts <- GetAssayData(obj2)\n",
    "metadata <- obj2@meta.data\n",
    "obj2 <- CreateSeuratObject(counts = counts, meta.data = metadata)\n",
    "\n",
    "## Clean columns\n",
    "obj2@meta.data$Tissue <- 'Colon'\n",
    "obj2@meta.data$Donor <- obj2@meta.data$Sample\n",
    "obj2@meta.data$Stim <- obj2@meta.data$Type\n",
    "obj2@meta.data$Cell_Type <- obj2@meta.data$Cluster\n",
    "obj2@meta.data <- obj2@meta.data[, !(colnames(obj2@meta.data) %in%  c('Dataset', 'Reaction', 'CDR3_NT', 'Cluster'))]\n",
    "\n",
    "## Normalize\n",
    "options(future.globals.maxSize = 4000 * 1024^2)\n",
    "obj2 <- SCTransform(obj2, verbose = TRUE)\n",
    "\n",
    "## Load annotation\n",
    "monaco.ref <- celldex::MonacoImmuneData()\n",
    "blueprint.ref <- celldex::BlueprintEncodeData()\n",
    "### Blueprint annnotation\n",
    "sce <- LayerData(obj2)\n",
    "blueprint.main <- SingleR(test = sce, assay.type.test = 1, ref = blueprint.ref, labels = blueprint.ref$label.main)\n",
    "obj2@meta.data$blueprint.main <- blueprint.main$pruned.labels\n",
    "### Monaco annontation\n",
    "sce <- LayerData(obj2)\n",
    "monaco.fine <- SingleR(test = sce, assay.type.test = 1, ref = monaco.ref, labels = monaco.ref$label.fine)\n",
    "obj2@meta.data$monaco.fine <- monaco.fine$pruned.labels\n",
    "\n",
    "## Cluster\n",
    "seu <- obj2\n",
    "seu <- RunPCA(seu, npcs = 30, verbose = TRUE)\n",
    "seu <- RunUMAP(seu, reduction = \"pca\", dims = 1:20)\n",
    "seu <- FindNeighbors(seu, reduction = \"pca\", dims = 1:20)\n",
    "seu <- FindClusters(seu, resolution = 0.5)\n",
    "save(seu, file = file.path(\"objects\", \"CD3.rda\"))\n",
    "\n",
    "scConf3 = createConfig(seu, maxLevels = 60)\n",
    "makeShinyFiles(seu, scConf3, gene.mapping = TRUE, shiny.prefix = \"sc3\", shiny.dir = \"colon_pbmc_uc_scRNAseq_GSE189040/\", gex.assay = \"SCT\")\n",
    "\n",
    "# ADT\n",
    "\n",
    "## Load data\n",
    "obj2 <- readRDS(\"data/CD3.single.cell.RDS\")\n",
    "# counts <- GetAssayData(obj2, assay = \"ADT\")\n",
    "# metadata <- obj2@meta.data\n",
    "# obj2 <- CreateSeuratObject(counts = counts, meta.data = metadata)\n",
    "\n",
    "## Clean columns\n",
    "obj2@meta.data$Tissue <- 'Colon'\n",
    "obj2@meta.data$Donor <- obj2@meta.data$Sample\n",
    "obj2@meta.data$Stim <- obj2@meta.data$Type\n",
    "obj2@meta.data$Cell_Type <- obj2@meta.data$Cluster\n",
    "obj2@meta.data <- obj2@meta.data[, !(colnames(obj2@meta.data) %in%  c('Dataset', 'Reaction', 'CDR3_NT', 'Cluster'))]\n",
    "\n",
    "## Normalize\n",
    "options(future.globals.maxSize = 4000 * 1024^2)\n",
    "obj2 <- SCTransform(obj2, verbose = TRUE)\n",
    "\n",
    "## Load annotation\n",
    "monaco.ref <- celldex::MonacoImmuneData()\n",
    "blueprint.ref <- celldex::BlueprintEncodeData()\n",
    "### Blueprint annnotation\n",
    "sce <- LayerData(obj2)\n",
    "blueprint.main <- SingleR(test = sce, assay.type.test = 1, ref = blueprint.ref, labels = blueprint.ref$label.main)\n",
    "obj2@meta.data$blueprint.main <- blueprint.main$pruned.labels\n",
    "### Monaco annontation\n",
    "sce <- LayerData(obj2)\n",
    "monaco.fine <- SingleR(test = sce, assay.type.test = 1, ref = monaco.ref, labels = monaco.ref$label.fine)\n",
    "obj2@meta.data$monaco.fine <- monaco.fine$pruned.labels\n",
    "\n",
    "## Cluster\n",
    "seu <- obj2\n",
    "DefaultAssay(seu) <- 'ADT'\n",
    "VariableFeatures(seu) <- rownames(seu[[\"ADT\"]])\n",
    "seu <- NormalizeData(seu, normalization.method = 'CLR', margin = 2)\n",
    "seu <- ScaleData(seu)\n",
    "seu <- RunPCA(seu, verbose = TRUE)\n",
    "seu@reductions[[\"umap\"]] <- NULL\n",
    "\n",
    "scConf4 = createConfig(seu, maxLevels = 60)\n",
    "makeShinyFiles(seu, scConf4, gene.mapping = TRUE, shiny.prefix = \"sc4\", shiny.dir = \"colon_pbmc_uc_scRNAseq_GSE189040/\", gex.assay = \"ADT\")"
   ]
  },
  {
   "cell_type": "code",
   "execution_count": null,
   "metadata": {
    "vscode": {
     "languageId": "r"
    }
   },
   "outputs": [],
   "source": [
    "# RNA\n",
    "\n",
    "## Load data\n",
    "obj3 <- readRDS(\"data/epithelium.single.cell.RDS\")\n",
    "counts <- GetAssayData(obj3)\n",
    "metadata <- obj3@meta.data\n",
    "obj3 <- CreateSeuratObject(counts = counts, meta.data = metadata)\n",
    "\n",
    "## Clean columns\n",
    "obj3@meta.data$Tissue <- 'Epithelium'\n",
    "obj3@meta.data$Donor <- obj3@meta.data$Sample\n",
    "obj3@meta.data$Stim <- obj3@meta.data$Type\n",
    "obj3@meta.data$Cell_Type <- obj3@meta.data$Cluster\n",
    "obj3@meta.data <- obj3@meta.data[, !(colnames(obj3@meta.data) %in%  c('Sample', 'Pool', 'Cluster', 'Type'))]\n",
    "\n",
    "## Normalize\n",
    "options(future.globals.maxSize = 4000 * 1024^2)\n",
    "obj3 <- SCTransform(obj3, verbose = TRUE)\n",
    "\n",
    "## Load annotation\n",
    "monaco.ref <- celldex::MonacoImmuneData()\n",
    "blueprint.ref <- celldex::BlueprintEncodeData()\n",
    "### Blueprint annnotation\n",
    "sce <- LayerData(obj3)\n",
    "blueprint.main <- SingleR(test = sce, assay.type.test = 1, ref = blueprint.ref, labels = blueprint.ref$label.main)\n",
    "obj3@meta.data$blueprint.main <- blueprint.main$pruned.labels\n",
    "### Monaco annontation\n",
    "sce <- LayerData(obj3)\n",
    "monaco.fine <- SingleR(test = sce, assay.type.test = 1, ref = monaco.ref, labels = monaco.ref$label.fine)\n",
    "obj3@meta.data$monaco.fine <- monaco.fine$pruned.labels\n",
    "\n",
    "## Cluster\n",
    "seu <- obj3\n",
    "seu <- RunPCA(seu, npcs = 30, verbose = TRUE)\n",
    "seu <- RunUMAP(seu, reduction = \"pca\", dims = 1:20)\n",
    "seu <- FindNeighbors(seu, reduction = \"pca\", dims = 1:20)\n",
    "seu <- FindClusters(seu, resolution = 0.5)\n",
    "save(seu, file = file.path(\"objects\", \"epithelium.rda\"))\n",
    "\n",
    "scConf5 = createConfig(seu, maxLevels = 60)\n",
    "makeShinyFiles(seu, scConf5, gene.mapping = TRUE, shiny.prefix = \"sc5\", shiny.dir = \"colon_pbmc_uc_scRNAseq_GSE189040/\", gex.assay = \"SCT\")\n",
    "\n",
    "# ADT\n",
    "\n",
    "## Load data\n",
    "obj3 <- readRDS(\"data/epithelium.single.cell.RDS\")\n",
    "# counts <- GetAssayData(obj3, assay = \"ADT\")\n",
    "# metadata <- obj3@meta.data\n",
    "# obj3 <- CreateSeuratObject(counts = counts, meta.data = metadata)\n",
    "\n",
    "## Clean columns\n",
    "obj3@meta.data$Tissue <- 'Epithelium'\n",
    "obj3@meta.data$Donor <- obj3@meta.data$Sample\n",
    "obj3@meta.data$Stim <- obj3@meta.data$Type\n",
    "obj3@meta.data$Cell_Type <- obj3@meta.data$Cluster\n",
    "obj3@meta.data <- obj3@meta.data[, !(colnames(obj3@meta.data) %in%  c('Sample', 'Pool', 'Cluster', 'Type'))]\n",
    "\n",
    "## Normalize\n",
    "options(future.globals.maxSize = 4000 * 1024^2)\n",
    "obj3 <- SCTransform(obj3, verbose = TRUE)\n",
    "\n",
    "## Load annotation\n",
    "monaco.ref <- celldex::MonacoImmuneData()\n",
    "blueprint.ref <- celldex::BlueprintEncodeData()\n",
    "### Blueprint annnotation\n",
    "sce <- LayerData(obj3)\n",
    "blueprint.main <- SingleR(test = sce, assay.type.test = 1, ref = blueprint.ref, labels = blueprint.ref$label.main)\n",
    "obj3@meta.data$blueprint.main <- blueprint.main$pruned.labels\n",
    "### Monaco annontation\n",
    "sce <- LayerData(obj3)\n",
    "monaco.fine <- SingleR(test = sce, assay.type.test = 1, ref = monaco.ref, labels = monaco.ref$label.fine)\n",
    "obj3@meta.data$monaco.fine <- monaco.fine$pruned.labels\n",
    "\n",
    "## Cluster\n",
    "seu <- obj3\n",
    "DefaultAssay(seu) <- 'ADT'\n",
    "VariableFeatures(seu) <- rownames(seu[[\"ADT\"]])\n",
    "seu <- NormalizeData(seu, normalization.method = 'CLR', margin = 2)\n",
    "seu <- ScaleData(seu)\n",
    "seu <- RunPCA(seu, verbose = TRUE)\n",
    "seu@reductions[[\"umap\"]] <- NULL\n",
    "\n",
    "scConf6 = createConfig(seu, maxLevels = 60)\n",
    "makeShinyFiles(seu, scConf6, gene.mapping = TRUE, shiny.prefix = \"sc6\", shiny.dir = \"colon_pbmc_uc_scRNAseq_GSE189040/\", gex.assay = \"ADT\")"
   ]
  },
  {
   "cell_type": "code",
   "execution_count": 9,
   "metadata": {
    "vscode": {
     "languageId": "r"
    }
   },
   "outputs": [],
   "source": [
    "# RNA\n",
    "\n",
    "## Load data\n",
    "obj4 <- readRDS(\"data/stroma.and.immune.single.cell.RDS\")\n",
    "counts <- GetAssayData(obj4)\n",
    "metadata <- obj4@meta.data\n",
    "obj4 <- CreateSeuratObject(counts = counts, meta.data = metadata)\n",
    "\n",
    "## Clean columns\n",
    "obj4@meta.data$Tissue <- 'Stromal_Immune'\n",
    "obj4@meta.data$Donor <- obj4@meta.data$Sample\n",
    "obj4@meta.data$Stim <- obj4@meta.data$Type\n",
    "obj4@meta.data$Cell_Type <- obj4@meta.data$Cluster\n",
    "obj4@meta.data <- obj4@meta.data[, !(colnames(obj4@meta.data) %in%  c('Sample', 'cdr3s_nt', 'Pool', 'Cluster', 'Type'))]\n",
    "\n",
    "## Normalize\n",
    "options(future.globals.maxSize = 4000 * 1024^2)\n",
    "obj4 <- SCTransform(obj4, verbose = TRUE)\n",
    "\n",
    "## Load annotation\n",
    "monaco.ref <- celldex::MonacoImmuneData()\n",
    "blueprint.ref <- celldex::BlueprintEncodeData()\n",
    "### Blueprint annnotation\n",
    "sce <- LayerData(obj4)\n",
    "blueprint.main <- SingleR(test = sce, assay.type.test = 1, ref = blueprint.ref, labels = blueprint.ref$label.main)\n",
    "obj4@meta.data$blueprint.main <- blueprint.main$pruned.labels\n",
    "### Monaco annontation\n",
    "sce <- LayerData(obj4)\n",
    "monaco.fine <- SingleR(test = sce, assay.type.test = 1, ref = monaco.ref, labels = monaco.ref$label.fine)\n",
    "obj4@meta.data$monaco.fine <- monaco.fine$pruned.labels\n",
    "\n",
    "## Cluster\n",
    "seu <- obj4\n",
    "seu <- RunPCA(seu, npcs = 30, verbose = TRUE)\n",
    "seu <- RunUMAP(seu, reduction = \"pca\", dims = 1:20)\n",
    "seu <- FindNeighbors(seu, reduction = \"pca\", dims = 1:20)\n",
    "seu <- FindClusters(seu, resolution = 0.5)\n",
    "save(seu, file = file.path(\"objects\", \"stroma.rda\"))\n",
    "\n",
    "scConf7 = createConfig(seu, maxLevels = 60)\n",
    "makeShinyFiles(seu, scConf7, gene.mapping = TRUE, shiny.prefix = \"sc7\", shiny.dir = \"colon_pbmc_uc_scRNAseq_GSE189040/\", gex.assay = \"SCT\")\n",
    "\n",
    "# ADT\n",
    "\n",
    "## Load data\n",
    "obj4 <- readRDS(\"data/stroma.and.immune.single.cell.RDS\")\n",
    "counts <- GetAssayData(obj4, assay = \"ADT\")\n",
    "metadata <- obj4@meta.data\n",
    "obj4 <- CreateSeuratObject(counts = counts, meta.data = metadata)\n",
    "\n",
    "## Clean columns\n",
    "obj4@meta.data$Tissue <- 'Stromal_Immune'\n",
    "obj4@meta.data$Donor <- obj4@meta.data$Sample\n",
    "obj4@meta.data$Stim <- obj4@meta.data$Type\n",
    "obj4@meta.data$Cell_Type <- obj4@meta.data$Cluster\n",
    "obj4@meta.data <- obj4@meta.data[, !(colnames(obj4@meta.data) %in%  c('Sample', 'cdr3s_nt', 'Pool', 'Cluster', 'Type'))]\n",
    "\n",
    "## Normalize\n",
    "options(future.globals.maxSize = 4000 * 1024^2)\n",
    "obj4 <- SCTransform(obj4, verbose = TRUE)\n",
    "\n",
    "## Load annotation\n",
    "monaco.ref <- celldex::MonacoImmuneData()\n",
    "blueprint.ref <- celldex::BlueprintEncodeData()\n",
    "### Blueprint annnotation\n",
    "sce <- LayerData(obj4)\n",
    "blueprint.main <- SingleR(test = sce, assay.type.test = 1, ref = blueprint.ref, labels = blueprint.ref$label.main)\n",
    "obj4@meta.data$blueprint.main <- blueprint.main$pruned.labels\n",
    "### Monaco annontation\n",
    "sce <- LayerData(obj4)\n",
    "monaco.fine <- SingleR(test = sce, assay.type.test = 1, ref = monaco.ref, labels = monaco.ref$label.fine)\n",
    "obj4@meta.data$monaco.fine <- monaco.fine$pruned.labels\n",
    "\n",
    "## Cluster\n",
    "seu <- obj4\n",
    "DefaultAssay(seu) <- 'ADT'\n",
    "VariableFeatures(seu) <- rownames(seu[[\"ADT\"]])\n",
    "seu <- NormalizeData(seu, normalization.method = 'CLR', margin = 2)\n",
    "seu <- ScaleData(seu)\n",
    "seu <- RunPCA(seu, verbose = TRUE)\n",
    "seu <- RunUMAP(seu, reduction = \"pca\",  dims = 1:2)\n",
    "\n",
    "scConf8 = createConfig(seu, maxLevels = 60)\n",
    "makeShinyFiles(seu, scConf8, gene.mapping = TRUE, shiny.prefix = \"sc8\", shiny.dir = \"colon_pbmc_uc_scRNAseq_GSE189040/\", gex.assay = \"ADT\")"
   ]
  },
  {
   "cell_type": "code",
   "execution_count": 6,
   "metadata": {
    "vscode": {
     "languageId": "r"
    }
   },
   "outputs": [],
   "source": [
    "# Create Shiny app\n",
    "makeShinyCodesMulti(\n",
    "  shiny.title = \"Ulcerative and Immune Checkpoint Therapy Colitis scRNAseq\", shiny.footnotes = NULL,\n",
    "  shiny.prefix = c(\"sc1\", \"sc2\", \"sc3\", \"sc4\", \"sc5\", \"sc6\", \"sc7\", \"sc8\"),\n",
    "  shiny.headers = c( \"PBMC RNA\", \"PBMC Protein\", \"Colon RNA\", \"Colon Protein\",\"Epithelium RNA\", \"Epithelium Protein\", \"Stromal Immune RNA\", \"Stromal Immune Protein\"), \n",
    "  shiny.dir = \"colon_pbmc_uc_scRNAseq_GSE189040/\")"
   ]
  },
  {
   "cell_type": "code",
   "execution_count": 7,
   "metadata": {
    "vscode": {
     "languageId": "r"
    }
   },
   "outputs": [],
   "source": [
    "# Launch shiny app\n",
    "system(\"R -e \\\"shiny::runApp('colon_pbmc_uc_scRNAseq_GSE189040')\\\"\")"
   ]
  },
  {
   "cell_type": "code",
   "execution_count": 16,
   "metadata": {
    "vscode": {
     "languageId": "r"
    }
   },
   "outputs": [],
   "source": [
    "# Create merged shiny object\n",
    "cd3 <- get(load(file = \"objects/CD3.rda\"))\n",
    "epithelium <- get(load(file = \"objects/epithelium.rda\"))\n",
    "pbmc <- get(load(file = \"objects/PBMC.rda\"))\n",
    "stroma <- get(load(file = \"objects/stroma.rda\"))"
   ]
  },
  {
   "cell_type": "code",
   "execution_count": 17,
   "metadata": {
    "vscode": {
     "languageId": "r"
    }
   },
   "outputs": [],
   "source": [
    "cd3@meta.data$Cell_Category <- \"CD3\"\n",
    "epithelium@meta.data$Cell_Category <- \"Epithelium\"\n",
    "pbmc@meta.data$Cell_Category <- \"PBMC\"\n",
    "stroma@meta.data$Cell_Category <- \"Stroma_Immune\""
   ]
  },
  {
   "cell_type": "code",
   "execution_count": 18,
   "metadata": {
    "vscode": {
     "languageId": "r"
    }
   },
   "outputs": [
    {
     "name": "stderr",
     "output_type": "stream",
     "text": [
      "Warning message:\n",
      "“Some cell names are duplicated across objects provided. Renaming to enforce unique cell names.”\n"
     ]
    }
   ],
   "source": [
    "obj <- merge(x = cd3, y = c(epithelium, pbmc, stroma))\n",
    "save(obj, file = file.path(\"objects\", \"GSE189185.rda\"))"
   ]
  },
  {
   "cell_type": "code",
   "execution_count": 19,
   "metadata": {
    "vscode": {
     "languageId": "r"
    }
   },
   "outputs": [
    {
     "data": {
      "text/html": [
       "<style>\n",
       ".list-inline {list-style: none; margin:0; padding: 0}\n",
       ".list-inline>li {display: inline-block}\n",
       ".list-inline>li:not(:last-child)::after {content: \"\\00b7\"; padding: 0 .5ex}\n",
       "</style>\n",
       "<ol class=list-inline><li>'CD3'</li><li>'Epithelium'</li><li>'PBMC'</li><li>'Stroma_Immune'</li></ol>\n"
      ],
      "text/latex": [
       "\\begin{enumerate*}\n",
       "\\item 'CD3'\n",
       "\\item 'Epithelium'\n",
       "\\item 'PBMC'\n",
       "\\item 'Stroma\\_Immune'\n",
       "\\end{enumerate*}\n"
      ],
      "text/markdown": [
       "1. 'CD3'\n",
       "2. 'Epithelium'\n",
       "3. 'PBMC'\n",
       "4. 'Stroma_Immune'\n",
       "\n",
       "\n"
      ],
      "text/plain": [
       "[1] \"CD3\"           \"Epithelium\"    \"PBMC\"          \"Stroma_Immune\""
      ]
     },
     "metadata": {},
     "output_type": "display_data"
    }
   ],
   "source": [
    "unique(obj@meta.data$Cell_Category)"
   ]
  },
  {
   "cell_type": "code",
   "execution_count": 22,
   "metadata": {
    "vscode": {
     "languageId": "r"
    }
   },
   "outputs": [
    {
     "data": {
      "text/html": [
       "<style>\n",
       ".list-inline {list-style: none; margin:0; padding: 0}\n",
       ".list-inline>li {display: inline-block}\n",
       ".list-inline>li:not(:last-child)::after {content: \"\\00b7\"; padding: 0 .5ex}\n",
       "</style>\n",
       "<ol class=list-inline><li>'Th1'</li><li>'Tfh'</li><li>'Tregs'</li><li>'GZMH+ Effector'</li><li>'Th17 PD1-'</li><li>'Naive CD4+'</li><li>'CD103+ TRM'</li><li>'GZMK+ Effector'</li><li>'Th17 PD1+'</li><li>'CD103- HAVCR2+'</li><li>'CD103+ HAVCR2+'</li><li>'CD103+ ZNF683+'</li><li>'γδ-rich 2'</li><li>'IFN Response'</li><li>'Cycling'</li><li>'Tph'</li><li>'γδ-rich 1'</li><li>'MAITs'</li><li>'FGFBP2+ Effector'</li><li>'Naive CD8+'</li></ol>\n"
      ],
      "text/latex": [
       "\\begin{enumerate*}\n",
       "\\item 'Th1'\n",
       "\\item 'Tfh'\n",
       "\\item 'Tregs'\n",
       "\\item 'GZMH+ Effector'\n",
       "\\item 'Th17 PD1-'\n",
       "\\item 'Naive CD4+'\n",
       "\\item 'CD103+ TRM'\n",
       "\\item 'GZMK+ Effector'\n",
       "\\item 'Th17 PD1+'\n",
       "\\item 'CD103- HAVCR2+'\n",
       "\\item 'CD103+ HAVCR2+'\n",
       "\\item 'CD103+ ZNF683+'\n",
       "\\item 'γδ-rich 2'\n",
       "\\item 'IFN Response'\n",
       "\\item 'Cycling'\n",
       "\\item 'Tph'\n",
       "\\item 'γδ-rich 1'\n",
       "\\item 'MAITs'\n",
       "\\item 'FGFBP2+ Effector'\n",
       "\\item 'Naive CD8+'\n",
       "\\end{enumerate*}\n"
      ],
      "text/markdown": [
       "1. 'Th1'\n",
       "2. 'Tfh'\n",
       "3. 'Tregs'\n",
       "4. 'GZMH+ Effector'\n",
       "5. 'Th17 PD1-'\n",
       "6. 'Naive CD4+'\n",
       "7. 'CD103+ TRM'\n",
       "8. 'GZMK+ Effector'\n",
       "9. 'Th17 PD1+'\n",
       "10. 'CD103- HAVCR2+'\n",
       "11. 'CD103+ HAVCR2+'\n",
       "12. 'CD103+ ZNF683+'\n",
       "13. 'γδ-rich 2'\n",
       "14. 'IFN Response'\n",
       "15. 'Cycling'\n",
       "16. 'Tph'\n",
       "17. 'γδ-rich 1'\n",
       "18. 'MAITs'\n",
       "19. 'FGFBP2+ Effector'\n",
       "20. 'Naive CD8+'\n",
       "\n",
       "\n"
      ],
      "text/plain": [
       " [1] \"Th1\"              \"Tfh\"              \"Tregs\"            \"GZMH+ Effector\"  \n",
       " [5] \"Th17 PD1-\"        \"Naive CD4+\"       \"CD103+ TRM\"       \"GZMK+ Effector\"  \n",
       " [9] \"Th17 PD1+\"        \"CD103- HAVCR2+\"   \"CD103+ HAVCR2+\"   \"CD103+ ZNF683+\"  \n",
       "[13] \"γδ-rich 2\"        \"IFN Response\"     \"Cycling\"          \"Tph\"             \n",
       "[17] \"γδ-rich 1\"        \"MAITs\"            \"FGFBP2+ Effector\" \"Naive CD8+\"      "
      ]
     },
     "metadata": {},
     "output_type": "display_data"
    }
   ],
   "source": [
    "obj <- subset(obj, subset = Cell_Category == \"CD3\")\n",
    "unique(obj@meta.data$Cell_Type)"
   ]
  }
 ],
 "metadata": {
  "kernelspec": {
   "display_name": "R",
   "language": "R",
   "name": "ir"
  },
  "language_info": {
   "codemirror_mode": "r",
   "file_extension": ".r",
   "mimetype": "text/x-r-source",
   "name": "R",
   "pygments_lexer": "r",
   "version": "4.3.3"
  }
 },
 "nbformat": 4,
 "nbformat_minor": 2
}
